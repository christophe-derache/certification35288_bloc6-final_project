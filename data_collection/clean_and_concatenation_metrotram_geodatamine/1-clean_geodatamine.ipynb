{
 "cells": [
  {
   "cell_type": "code",
   "execution_count": 1,
   "metadata": {},
   "outputs": [],
   "source": [
    "import pandas as pd"
   ]
  },
  {
   "cell_type": "code",
   "execution_count": 2,
   "metadata": {},
   "outputs": [],
   "source": [
    "#df = pd.read_csv('raw_data_geodatamine/education.csv', sep=';')\n",
    "#df = pd.read_csv('raw_data_geodatamine/healthcare.csv', sep=';')\n",
    "#df = pd.read_csv('raw_data_geodatamine/historic.csv', sep=';')\n",
    "df = pd.read_csv('raw_data_geodatamine/shop.csv', sep=';')"
   ]
  },
  {
   "cell_type": "code",
   "execution_count": 3,
   "metadata": {},
   "outputs": [
    {
     "data": {
      "text/html": [
       "<div>\n",
       "<style scoped>\n",
       "    .dataframe tbody tr th:only-of-type {\n",
       "        vertical-align: middle;\n",
       "    }\n",
       "\n",
       "    .dataframe tbody tr th {\n",
       "        vertical-align: top;\n",
       "    }\n",
       "\n",
       "    .dataframe thead th {\n",
       "        text-align: right;\n",
       "    }\n",
       "</style>\n",
       "<table border=\"1\" class=\"dataframe\">\n",
       "  <thead>\n",
       "    <tr style=\"text-align: right;\">\n",
       "      <th></th>\n",
       "      <th>X</th>\n",
       "      <th>Y</th>\n",
       "      <th>osm_id</th>\n",
       "      <th>type</th>\n",
       "      <th>name</th>\n",
       "      <th>brand</th>\n",
       "      <th>operator</th>\n",
       "      <th>wheelchair</th>\n",
       "      <th>opening_hours</th>\n",
       "      <th>level</th>\n",
       "      <th>...</th>\n",
       "      <th>profession_ref</th>\n",
       "      <th>wikidata</th>\n",
       "      <th>website</th>\n",
       "      <th>phone</th>\n",
       "      <th>email</th>\n",
       "      <th>facebook</th>\n",
       "      <th>address</th>\n",
       "      <th>com_insee</th>\n",
       "      <th>com_nom</th>\n",
       "      <th>last_update</th>\n",
       "    </tr>\n",
       "  </thead>\n",
       "  <tbody>\n",
       "    <tr>\n",
       "      <th>0</th>\n",
       "      <td>4.844615</td>\n",
       "      <td>45.768534</td>\n",
       "      <td>node/10000691913</td>\n",
       "      <td>bank</td>\n",
       "      <td>La Banque Postale</td>\n",
       "      <td>La Banque Postale</td>\n",
       "      <td>NaN</td>\n",
       "      <td>NaN</td>\n",
       "      <td>NaN</td>\n",
       "      <td>NaN</td>\n",
       "      <td>...</td>\n",
       "      <td>NaN</td>\n",
       "      <td>Q3206431</td>\n",
       "      <td>NaN</td>\n",
       "      <td>NaN</td>\n",
       "      <td>NaN</td>\n",
       "      <td>NaN</td>\n",
       "      <td>NaN</td>\n",
       "      <td>69123</td>\n",
       "      <td>Lyon</td>\n",
       "      <td>2022-09-04</td>\n",
       "    </tr>\n",
       "    <tr>\n",
       "      <th>1</th>\n",
       "      <td>4.848469</td>\n",
       "      <td>45.771208</td>\n",
       "      <td>node/10000729225</td>\n",
       "      <td>bank</td>\n",
       "      <td>La Banque Postale</td>\n",
       "      <td>La Banque Postale</td>\n",
       "      <td>NaN</td>\n",
       "      <td>NaN</td>\n",
       "      <td>NaN</td>\n",
       "      <td>NaN</td>\n",
       "      <td>...</td>\n",
       "      <td>NaN</td>\n",
       "      <td>Q3206431</td>\n",
       "      <td>NaN</td>\n",
       "      <td>NaN</td>\n",
       "      <td>NaN</td>\n",
       "      <td>NaN</td>\n",
       "      <td>69 Rue Sully</td>\n",
       "      <td>69123</td>\n",
       "      <td>Lyon</td>\n",
       "      <td>2022-09-04</td>\n",
       "    </tr>\n",
       "    <tr>\n",
       "      <th>2</th>\n",
       "      <td>4.869203</td>\n",
       "      <td>45.736779</td>\n",
       "      <td>node/10000764234</td>\n",
       "      <td>bank</td>\n",
       "      <td>La Banque Postale</td>\n",
       "      <td>La Banque Postale</td>\n",
       "      <td>NaN</td>\n",
       "      <td>NaN</td>\n",
       "      <td>NaN</td>\n",
       "      <td>NaN</td>\n",
       "      <td>...</td>\n",
       "      <td>NaN</td>\n",
       "      <td>Q3206431</td>\n",
       "      <td>NaN</td>\n",
       "      <td>NaN</td>\n",
       "      <td>NaN</td>\n",
       "      <td>NaN</td>\n",
       "      <td>9 Place du 11 Novembre 1918</td>\n",
       "      <td>69123</td>\n",
       "      <td>Lyon</td>\n",
       "      <td>2022-09-05</td>\n",
       "    </tr>\n",
       "    <tr>\n",
       "      <th>3</th>\n",
       "      <td>4.877389</td>\n",
       "      <td>45.728576</td>\n",
       "      <td>node/10001895040</td>\n",
       "      <td>bank</td>\n",
       "      <td>La Banque Postale</td>\n",
       "      <td>La Banque Postale</td>\n",
       "      <td>NaN</td>\n",
       "      <td>NaN</td>\n",
       "      <td>NaN</td>\n",
       "      <td>NaN</td>\n",
       "      <td>...</td>\n",
       "      <td>NaN</td>\n",
       "      <td>Q3206431</td>\n",
       "      <td>NaN</td>\n",
       "      <td>NaN</td>\n",
       "      <td>NaN</td>\n",
       "      <td>NaN</td>\n",
       "      <td>101 Avenue Paul Santy</td>\n",
       "      <td>69123</td>\n",
       "      <td>Lyon</td>\n",
       "      <td>2022-09-05</td>\n",
       "    </tr>\n",
       "    <tr>\n",
       "      <th>4</th>\n",
       "      <td>4.870426</td>\n",
       "      <td>45.743550</td>\n",
       "      <td>node/10003153096</td>\n",
       "      <td>bank</td>\n",
       "      <td>La Banque Postale</td>\n",
       "      <td>La Banque Postale</td>\n",
       "      <td>NaN</td>\n",
       "      <td>NaN</td>\n",
       "      <td>NaN</td>\n",
       "      <td>NaN</td>\n",
       "      <td>...</td>\n",
       "      <td>NaN</td>\n",
       "      <td>Q3206431</td>\n",
       "      <td>NaN</td>\n",
       "      <td>NaN</td>\n",
       "      <td>NaN</td>\n",
       "      <td>NaN</td>\n",
       "      <td>5 Rue Antoine Lumière</td>\n",
       "      <td>69123</td>\n",
       "      <td>Lyon</td>\n",
       "      <td>2022-09-05</td>\n",
       "    </tr>\n",
       "  </tbody>\n",
       "</table>\n",
       "<p>5 rows × 21 columns</p>\n",
       "</div>"
      ],
      "text/plain": [
       "          X          Y            osm_id  type               name  \\\n",
       "0  4.844615  45.768534  node/10000691913  bank  La Banque Postale   \n",
       "1  4.848469  45.771208  node/10000729225  bank  La Banque Postale   \n",
       "2  4.869203  45.736779  node/10000764234  bank  La Banque Postale   \n",
       "3  4.877389  45.728576  node/10001895040  bank  La Banque Postale   \n",
       "4  4.870426  45.743550  node/10003153096  bank  La Banque Postale   \n",
       "\n",
       "               brand operator wheelchair opening_hours level  ...  \\\n",
       "0  La Banque Postale      NaN        NaN           NaN   NaN  ...   \n",
       "1  La Banque Postale      NaN        NaN           NaN   NaN  ...   \n",
       "2  La Banque Postale      NaN        NaN           NaN   NaN  ...   \n",
       "3  La Banque Postale      NaN        NaN           NaN   NaN  ...   \n",
       "4  La Banque Postale      NaN        NaN           NaN   NaN  ...   \n",
       "\n",
       "  profession_ref  wikidata website phone email facebook  \\\n",
       "0            NaN  Q3206431     NaN   NaN   NaN      NaN   \n",
       "1            NaN  Q3206431     NaN   NaN   NaN      NaN   \n",
       "2            NaN  Q3206431     NaN   NaN   NaN      NaN   \n",
       "3            NaN  Q3206431     NaN   NaN   NaN      NaN   \n",
       "4            NaN  Q3206431     NaN   NaN   NaN      NaN   \n",
       "\n",
       "                       address com_insee  com_nom last_update  \n",
       "0                          NaN     69123     Lyon  2022-09-04  \n",
       "1                 69 Rue Sully     69123     Lyon  2022-09-04  \n",
       "2  9 Place du 11 Novembre 1918     69123     Lyon  2022-09-05  \n",
       "3        101 Avenue Paul Santy     69123     Lyon  2022-09-05  \n",
       "4        5 Rue Antoine Lumière     69123     Lyon  2022-09-05  \n",
       "\n",
       "[5 rows x 21 columns]"
      ]
     },
     "execution_count": 3,
     "metadata": {},
     "output_type": "execute_result"
    }
   ],
   "source": [
    "df.head(5)"
   ]
  },
  {
   "cell_type": "code",
   "execution_count": 30,
   "metadata": {},
   "outputs": [
    {
     "data": {
      "text/plain": [
       "(8967, 21)"
      ]
     },
     "execution_count": 30,
     "metadata": {},
     "output_type": "execute_result"
    }
   ],
   "source": [
    "df.shape"
   ]
  },
  {
   "cell_type": "code",
   "execution_count": 31,
   "metadata": {},
   "outputs": [],
   "source": [
    "#list_to_keep = ['X', 'Y', 'name', 'type']"
   ]
  },
  {
   "cell_type": "code",
   "execution_count": 32,
   "metadata": {},
   "outputs": [],
   "source": [
    "df_filtered = df[['X', 'Y', 'name', 'type']]"
   ]
  },
  {
   "cell_type": "code",
   "execution_count": 33,
   "metadata": {},
   "outputs": [
    {
     "data": {
      "text/html": [
       "<div>\n",
       "<style scoped>\n",
       "    .dataframe tbody tr th:only-of-type {\n",
       "        vertical-align: middle;\n",
       "    }\n",
       "\n",
       "    .dataframe tbody tr th {\n",
       "        vertical-align: top;\n",
       "    }\n",
       "\n",
       "    .dataframe thead th {\n",
       "        text-align: right;\n",
       "    }\n",
       "</style>\n",
       "<table border=\"1\" class=\"dataframe\">\n",
       "  <thead>\n",
       "    <tr style=\"text-align: right;\">\n",
       "      <th></th>\n",
       "      <th>X</th>\n",
       "      <th>Y</th>\n",
       "      <th>name</th>\n",
       "      <th>type</th>\n",
       "    </tr>\n",
       "  </thead>\n",
       "  <tbody>\n",
       "    <tr>\n",
       "      <th>0</th>\n",
       "      <td>4.844615</td>\n",
       "      <td>45.768534</td>\n",
       "      <td>La Banque Postale</td>\n",
       "      <td>bank</td>\n",
       "    </tr>\n",
       "    <tr>\n",
       "      <th>1</th>\n",
       "      <td>4.848469</td>\n",
       "      <td>45.771208</td>\n",
       "      <td>La Banque Postale</td>\n",
       "      <td>bank</td>\n",
       "    </tr>\n",
       "    <tr>\n",
       "      <th>2</th>\n",
       "      <td>4.869203</td>\n",
       "      <td>45.736779</td>\n",
       "      <td>La Banque Postale</td>\n",
       "      <td>bank</td>\n",
       "    </tr>\n",
       "    <tr>\n",
       "      <th>3</th>\n",
       "      <td>4.877389</td>\n",
       "      <td>45.728576</td>\n",
       "      <td>La Banque Postale</td>\n",
       "      <td>bank</td>\n",
       "    </tr>\n",
       "    <tr>\n",
       "      <th>4</th>\n",
       "      <td>4.870426</td>\n",
       "      <td>45.743550</td>\n",
       "      <td>La Banque Postale</td>\n",
       "      <td>bank</td>\n",
       "    </tr>\n",
       "  </tbody>\n",
       "</table>\n",
       "</div>"
      ],
      "text/plain": [
       "          X          Y               name  type\n",
       "0  4.844615  45.768534  La Banque Postale  bank\n",
       "1  4.848469  45.771208  La Banque Postale  bank\n",
       "2  4.869203  45.736779  La Banque Postale  bank\n",
       "3  4.877389  45.728576  La Banque Postale  bank\n",
       "4  4.870426  45.743550  La Banque Postale  bank"
      ]
     },
     "execution_count": 33,
     "metadata": {},
     "output_type": "execute_result"
    }
   ],
   "source": [
    "df_filtered.head(5)"
   ]
  },
  {
   "cell_type": "code",
   "execution_count": 34,
   "metadata": {},
   "outputs": [
    {
     "data": {
      "text/plain": [
       "(8967, 4)"
      ]
     },
     "execution_count": 34,
     "metadata": {},
     "output_type": "execute_result"
    }
   ],
   "source": [
    "df_filtered.shape"
   ]
  },
  {
   "cell_type": "code",
   "execution_count": 35,
   "metadata": {},
   "outputs": [],
   "source": [
    "dict_to_rename = {'X': 'longitude', 'Y':'latitude', 'type':'category'}"
   ]
  },
  {
   "cell_type": "code",
   "execution_count": 36,
   "metadata": {},
   "outputs": [],
   "source": [
    "df_renamed = df_filtered.rename(dict_to_rename, axis=1)"
   ]
  },
  {
   "cell_type": "code",
   "execution_count": 37,
   "metadata": {},
   "outputs": [
    {
     "data": {
      "text/html": [
       "<div>\n",
       "<style scoped>\n",
       "    .dataframe tbody tr th:only-of-type {\n",
       "        vertical-align: middle;\n",
       "    }\n",
       "\n",
       "    .dataframe tbody tr th {\n",
       "        vertical-align: top;\n",
       "    }\n",
       "\n",
       "    .dataframe thead th {\n",
       "        text-align: right;\n",
       "    }\n",
       "</style>\n",
       "<table border=\"1\" class=\"dataframe\">\n",
       "  <thead>\n",
       "    <tr style=\"text-align: right;\">\n",
       "      <th></th>\n",
       "      <th>longitude</th>\n",
       "      <th>latitude</th>\n",
       "      <th>name</th>\n",
       "      <th>category</th>\n",
       "    </tr>\n",
       "  </thead>\n",
       "  <tbody>\n",
       "    <tr>\n",
       "      <th>0</th>\n",
       "      <td>4.844615</td>\n",
       "      <td>45.768534</td>\n",
       "      <td>La Banque Postale</td>\n",
       "      <td>bank</td>\n",
       "    </tr>\n",
       "    <tr>\n",
       "      <th>1</th>\n",
       "      <td>4.848469</td>\n",
       "      <td>45.771208</td>\n",
       "      <td>La Banque Postale</td>\n",
       "      <td>bank</td>\n",
       "    </tr>\n",
       "    <tr>\n",
       "      <th>2</th>\n",
       "      <td>4.869203</td>\n",
       "      <td>45.736779</td>\n",
       "      <td>La Banque Postale</td>\n",
       "      <td>bank</td>\n",
       "    </tr>\n",
       "    <tr>\n",
       "      <th>3</th>\n",
       "      <td>4.877389</td>\n",
       "      <td>45.728576</td>\n",
       "      <td>La Banque Postale</td>\n",
       "      <td>bank</td>\n",
       "    </tr>\n",
       "    <tr>\n",
       "      <th>4</th>\n",
       "      <td>4.870426</td>\n",
       "      <td>45.743550</td>\n",
       "      <td>La Banque Postale</td>\n",
       "      <td>bank</td>\n",
       "    </tr>\n",
       "  </tbody>\n",
       "</table>\n",
       "</div>"
      ],
      "text/plain": [
       "   longitude   latitude               name category\n",
       "0   4.844615  45.768534  La Banque Postale     bank\n",
       "1   4.848469  45.771208  La Banque Postale     bank\n",
       "2   4.869203  45.736779  La Banque Postale     bank\n",
       "3   4.877389  45.728576  La Banque Postale     bank\n",
       "4   4.870426  45.743550  La Banque Postale     bank"
      ]
     },
     "execution_count": 37,
     "metadata": {},
     "output_type": "execute_result"
    }
   ],
   "source": [
    "df_renamed.head()"
   ]
  },
  {
   "cell_type": "code",
   "execution_count": 38,
   "metadata": {},
   "outputs": [],
   "source": [
    "#df_renamed.to_csv('cleaned_geodatamine_data/cleaned_shop.csv')"
   ]
  },
  {
   "cell_type": "code",
   "execution_count": null,
   "metadata": {},
   "outputs": [],
   "source": []
  }
 ],
 "metadata": {
  "kernelspec": {
   "display_name": "Python 3.9.3 64-bit",
   "language": "python",
   "name": "python3"
  },
  "language_info": {
   "codemirror_mode": {
    "name": "ipython",
    "version": 3
   },
   "file_extension": ".py",
   "mimetype": "text/x-python",
   "name": "python",
   "nbconvert_exporter": "python",
   "pygments_lexer": "ipython3",
   "version": "3.9.3 (tags/v3.9.3:e723086, Apr  2 2021, 11:35:20) [MSC v.1928 64 bit (AMD64)]"
  },
  "orig_nbformat": 4,
  "vscode": {
   "interpreter": {
    "hash": "5a1ee337b682cd95343797d80150fd2bd6ab72b1f35807bec9bb1f0b7fb0c443"
   }
  }
 },
 "nbformat": 4,
 "nbformat_minor": 2
}
