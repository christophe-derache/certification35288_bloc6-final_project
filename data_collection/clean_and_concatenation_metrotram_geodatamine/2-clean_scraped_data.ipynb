{
 "cells": [
  {
   "cell_type": "code",
   "execution_count": 1,
   "metadata": {},
   "outputs": [],
   "source": [
    "import pandas as pd"
   ]
  },
  {
   "cell_type": "code",
   "execution_count": 2,
   "metadata": {},
   "outputs": [],
   "source": [
    "df = pd.read_csv('save_output_scraping/output_line_A.csv')\n",
    "#df = pd.read_csv('save_output_scraping/output_line_A.csv')\n",
    "#df = pd.read_csv('save_output_scraping/output_line_B.csv')\n",
    "#df = pd.read_csv('save_output_scraping/output_line_C.csv')\n",
    "#df = pd.read_csv('save_output_scraping/output_line_D.csv')\n",
    "#df = pd.read_csv('save_output_scraping/output_tram_T1.csv')\n",
    "#df = pd.read_csv('save_output_scraping/output_tram_T2.csv')\n",
    "#df = pd.read_csv('save_output_scraping/output_tram_T3.csv')\n",
    "#df = pd.read_csv('save_output_scraping/output_tram_T4.csv')\n",
    "#df = pd.read_csv('save_output_scraping/output_tram_T5.csv')\n",
    "#df = pd.read_csv('save_output_scraping/output_tram_T6.csv')"
   ]
  },
  {
   "cell_type": "code",
   "execution_count": 3,
   "metadata": {},
   "outputs": [
    {
     "data": {
      "text/html": [
       "<div>\n",
       "<style scoped>\n",
       "    .dataframe tbody tr th:only-of-type {\n",
       "        vertical-align: middle;\n",
       "    }\n",
       "\n",
       "    .dataframe tbody tr th {\n",
       "        vertical-align: top;\n",
       "    }\n",
       "\n",
       "    .dataframe thead th {\n",
       "        text-align: right;\n",
       "    }\n",
       "</style>\n",
       "<table border=\"1\" class=\"dataframe\">\n",
       "  <thead>\n",
       "    <tr style=\"text-align: right;\">\n",
       "      <th></th>\n",
       "      <th>Unnamed: 0</th>\n",
       "      <th>name</th>\n",
       "      <th>link</th>\n",
       "      <th>line</th>\n",
       "      <th>city</th>\n",
       "    </tr>\n",
       "  </thead>\n",
       "  <tbody>\n",
       "    <tr>\n",
       "      <th>0</th>\n",
       "      <td>0</td>\n",
       "      <td>Perrache</td>\n",
       "      <td>http://maps.google.fr/?q=45.749554,4.826965</td>\n",
       "      <td>A</td>\n",
       "      <td>lyon</td>\n",
       "    </tr>\n",
       "    <tr>\n",
       "      <th>1</th>\n",
       "      <td>1</td>\n",
       "      <td>Ampère – Victor-Hugo</td>\n",
       "      <td>http://maps.google.fr/?q=45.753161,4.829232</td>\n",
       "      <td>A</td>\n",
       "      <td>lyon</td>\n",
       "    </tr>\n",
       "  </tbody>\n",
       "</table>\n",
       "</div>"
      ],
      "text/plain": [
       "   Unnamed: 0                  name  \\\n",
       "0           0              Perrache   \n",
       "1           1  Ampère – Victor-Hugo   \n",
       "\n",
       "                                          link line  city  \n",
       "0  http://maps.google.fr/?q=45.749554,4.826965    A  lyon  \n",
       "1  http://maps.google.fr/?q=45.753161,4.829232    A  lyon  "
      ]
     },
     "execution_count": 3,
     "metadata": {},
     "output_type": "execute_result"
    }
   ],
   "source": [
    "df.head(2)"
   ]
  },
  {
   "cell_type": "code",
   "execution_count": 4,
   "metadata": {},
   "outputs": [],
   "source": [
    "# Create clean longitude list and latitude list in order to\n",
    "# clean data ready to use with each coordinate\n",
    "\n",
    "df.drop(columns='Unnamed: 0', inplace=True)\n",
    "#df.drop(columns='Unnamed: 0.1', inplace=True)\n",
    "\n",
    "list_long = []\n",
    "list_lat = []\n",
    "\n",
    "for value in df['link']:\n",
    "    #print(type(value))\n",
    "    #value = value[-1]\n",
    "    value_splitted = value.split('=')\n",
    "    value_splitted = value_splitted[-1]\n",
    "    value_splitted = value_splitted.split(',')\n",
    "    latitude = value_splitted[0]\n",
    "    list_lat.append(latitude)\n",
    "    longitude = value_splitted[-1]\n",
    "    list_long.append(longitude)\n",
    "\n",
    "# Add columns to our dataset\n",
    "df['longitude'] = list_long\n",
    "df['latitude'] =  list_lat\n",
    "\n"
   ]
  },
  {
   "cell_type": "code",
   "execution_count": 5,
   "metadata": {},
   "outputs": [
    {
     "data": {
      "text/html": [
       "<div>\n",
       "<style scoped>\n",
       "    .dataframe tbody tr th:only-of-type {\n",
       "        vertical-align: middle;\n",
       "    }\n",
       "\n",
       "    .dataframe tbody tr th {\n",
       "        vertical-align: top;\n",
       "    }\n",
       "\n",
       "    .dataframe thead th {\n",
       "        text-align: right;\n",
       "    }\n",
       "</style>\n",
       "<table border=\"1\" class=\"dataframe\">\n",
       "  <thead>\n",
       "    <tr style=\"text-align: right;\">\n",
       "      <th></th>\n",
       "      <th>name</th>\n",
       "      <th>link</th>\n",
       "      <th>line</th>\n",
       "      <th>city</th>\n",
       "      <th>longitude</th>\n",
       "      <th>latitude</th>\n",
       "    </tr>\n",
       "  </thead>\n",
       "  <tbody>\n",
       "    <tr>\n",
       "      <th>0</th>\n",
       "      <td>Perrache</td>\n",
       "      <td>http://maps.google.fr/?q=45.749554,4.826965</td>\n",
       "      <td>A</td>\n",
       "      <td>lyon</td>\n",
       "      <td>4.826965</td>\n",
       "      <td>45.749554</td>\n",
       "    </tr>\n",
       "    <tr>\n",
       "      <th>1</th>\n",
       "      <td>Ampère – Victor-Hugo</td>\n",
       "      <td>http://maps.google.fr/?q=45.753161,4.829232</td>\n",
       "      <td>A</td>\n",
       "      <td>lyon</td>\n",
       "      <td>4.829232</td>\n",
       "      <td>45.753161</td>\n",
       "    </tr>\n",
       "  </tbody>\n",
       "</table>\n",
       "</div>"
      ],
      "text/plain": [
       "                   name                                         link line  \\\n",
       "0              Perrache  http://maps.google.fr/?q=45.749554,4.826965    A   \n",
       "1  Ampère – Victor-Hugo  http://maps.google.fr/?q=45.753161,4.829232    A   \n",
       "\n",
       "   city longitude   latitude  \n",
       "0  lyon  4.826965  45.749554  \n",
       "1  lyon  4.829232  45.753161  "
      ]
     },
     "execution_count": 5,
     "metadata": {},
     "output_type": "execute_result"
    }
   ],
   "source": [
    "df.head(2)"
   ]
  },
  {
   "cell_type": "code",
   "execution_count": 6,
   "metadata": {},
   "outputs": [],
   "source": [
    "df_filtered = df[['longitude', 'latitude', 'name', 'line']]"
   ]
  },
  {
   "cell_type": "code",
   "execution_count": 7,
   "metadata": {},
   "outputs": [
    {
     "data": {
      "text/html": [
       "<div>\n",
       "<style scoped>\n",
       "    .dataframe tbody tr th:only-of-type {\n",
       "        vertical-align: middle;\n",
       "    }\n",
       "\n",
       "    .dataframe tbody tr th {\n",
       "        vertical-align: top;\n",
       "    }\n",
       "\n",
       "    .dataframe thead th {\n",
       "        text-align: right;\n",
       "    }\n",
       "</style>\n",
       "<table border=\"1\" class=\"dataframe\">\n",
       "  <thead>\n",
       "    <tr style=\"text-align: right;\">\n",
       "      <th></th>\n",
       "      <th>longitude</th>\n",
       "      <th>latitude</th>\n",
       "      <th>name</th>\n",
       "      <th>line</th>\n",
       "    </tr>\n",
       "  </thead>\n",
       "  <tbody>\n",
       "    <tr>\n",
       "      <th>0</th>\n",
       "      <td>4.826965</td>\n",
       "      <td>45.749554</td>\n",
       "      <td>Perrache</td>\n",
       "      <td>A</td>\n",
       "    </tr>\n",
       "    <tr>\n",
       "      <th>1</th>\n",
       "      <td>4.829232</td>\n",
       "      <td>45.753161</td>\n",
       "      <td>Ampère – Victor-Hugo</td>\n",
       "      <td>A</td>\n",
       "    </tr>\n",
       "  </tbody>\n",
       "</table>\n",
       "</div>"
      ],
      "text/plain": [
       "  longitude   latitude                  name line\n",
       "0  4.826965  45.749554              Perrache    A\n",
       "1  4.829232  45.753161  Ampère – Victor-Hugo    A"
      ]
     },
     "execution_count": 7,
     "metadata": {},
     "output_type": "execute_result"
    }
   ],
   "source": [
    "df_filtered.head(2)"
   ]
  },
  {
   "cell_type": "code",
   "execution_count": 8,
   "metadata": {},
   "outputs": [],
   "source": [
    "dict_to_rename = {'line':'category'}\n",
    "df_renamed = df_filtered.rename(dict_to_rename, axis=1)"
   ]
  },
  {
   "cell_type": "code",
   "execution_count": 9,
   "metadata": {},
   "outputs": [
    {
     "data": {
      "text/html": [
       "<div>\n",
       "<style scoped>\n",
       "    .dataframe tbody tr th:only-of-type {\n",
       "        vertical-align: middle;\n",
       "    }\n",
       "\n",
       "    .dataframe tbody tr th {\n",
       "        vertical-align: top;\n",
       "    }\n",
       "\n",
       "    .dataframe thead th {\n",
       "        text-align: right;\n",
       "    }\n",
       "</style>\n",
       "<table border=\"1\" class=\"dataframe\">\n",
       "  <thead>\n",
       "    <tr style=\"text-align: right;\">\n",
       "      <th></th>\n",
       "      <th>longitude</th>\n",
       "      <th>latitude</th>\n",
       "      <th>name</th>\n",
       "      <th>category</th>\n",
       "    </tr>\n",
       "  </thead>\n",
       "  <tbody>\n",
       "    <tr>\n",
       "      <th>0</th>\n",
       "      <td>4.826965</td>\n",
       "      <td>45.749554</td>\n",
       "      <td>Perrache</td>\n",
       "      <td>A</td>\n",
       "    </tr>\n",
       "    <tr>\n",
       "      <th>1</th>\n",
       "      <td>4.829232</td>\n",
       "      <td>45.753161</td>\n",
       "      <td>Ampère – Victor-Hugo</td>\n",
       "      <td>A</td>\n",
       "    </tr>\n",
       "  </tbody>\n",
       "</table>\n",
       "</div>"
      ],
      "text/plain": [
       "  longitude   latitude                  name category\n",
       "0  4.826965  45.749554              Perrache        A\n",
       "1  4.829232  45.753161  Ampère – Victor-Hugo        A"
      ]
     },
     "execution_count": 9,
     "metadata": {},
     "output_type": "execute_result"
    }
   ],
   "source": [
    "df_renamed.head(2)"
   ]
  },
  {
   "cell_type": "code",
   "execution_count": 10,
   "metadata": {},
   "outputs": [],
   "source": [
    "df_renamed.replace(to_replace={'A':'station_metro_A'}, inplace=True)"
   ]
  },
  {
   "cell_type": "code",
   "execution_count": 11,
   "metadata": {},
   "outputs": [
    {
     "data": {
      "text/html": [
       "<div>\n",
       "<style scoped>\n",
       "    .dataframe tbody tr th:only-of-type {\n",
       "        vertical-align: middle;\n",
       "    }\n",
       "\n",
       "    .dataframe tbody tr th {\n",
       "        vertical-align: top;\n",
       "    }\n",
       "\n",
       "    .dataframe thead th {\n",
       "        text-align: right;\n",
       "    }\n",
       "</style>\n",
       "<table border=\"1\" class=\"dataframe\">\n",
       "  <thead>\n",
       "    <tr style=\"text-align: right;\">\n",
       "      <th></th>\n",
       "      <th>longitude</th>\n",
       "      <th>latitude</th>\n",
       "      <th>name</th>\n",
       "      <th>category</th>\n",
       "    </tr>\n",
       "  </thead>\n",
       "  <tbody>\n",
       "    <tr>\n",
       "      <th>0</th>\n",
       "      <td>4.826965</td>\n",
       "      <td>45.749554</td>\n",
       "      <td>Perrache</td>\n",
       "      <td>metro_line_A</td>\n",
       "    </tr>\n",
       "    <tr>\n",
       "      <th>1</th>\n",
       "      <td>4.829232</td>\n",
       "      <td>45.753161</td>\n",
       "      <td>Ampère – Victor-Hugo</td>\n",
       "      <td>metro_line_A</td>\n",
       "    </tr>\n",
       "    <tr>\n",
       "      <th>2</th>\n",
       "      <td>4.832928</td>\n",
       "      <td>45.757542</td>\n",
       "      <td>Bellecour</td>\n",
       "      <td>metro_line_A</td>\n",
       "    </tr>\n",
       "    <tr>\n",
       "      <th>3</th>\n",
       "      <td>4.835816</td>\n",
       "      <td>45.763393</td>\n",
       "      <td>Cordeliers</td>\n",
       "      <td>metro_line_A</td>\n",
       "    </tr>\n",
       "    <tr>\n",
       "      <th>4</th>\n",
       "      <td>4.836012</td>\n",
       "      <td>45.767785</td>\n",
       "      <td>Hôtel de Ville – Louis-Pradel</td>\n",
       "      <td>metro_line_A</td>\n",
       "    </tr>\n",
       "    <tr>\n",
       "      <th>5</th>\n",
       "      <td>4.844525</td>\n",
       "      <td>45.768771</td>\n",
       "      <td>Foch</td>\n",
       "      <td>metro_line_A</td>\n",
       "    </tr>\n",
       "    <tr>\n",
       "      <th>6</th>\n",
       "      <td>4.853208</td>\n",
       "      <td>45.769572</td>\n",
       "      <td>Masséna</td>\n",
       "      <td>metro_line_A</td>\n",
       "    </tr>\n",
       "    <tr>\n",
       "      <th>7</th>\n",
       "      <td>4.863397</td>\n",
       "      <td>45.770453</td>\n",
       "      <td>Charpennes – Charles-Hernu</td>\n",
       "      <td>metro_line_A</td>\n",
       "    </tr>\n",
       "    <tr>\n",
       "      <th>8</th>\n",
       "      <td>4.873660</td>\n",
       "      <td>45.770558</td>\n",
       "      <td>République – Villeurbanne</td>\n",
       "      <td>metro_line_A</td>\n",
       "    </tr>\n",
       "    <tr>\n",
       "      <th>9</th>\n",
       "      <td>4.882197</td>\n",
       "      <td>45.769029</td>\n",
       "      <td>Gratte-Ciel</td>\n",
       "      <td>metro_line_A</td>\n",
       "    </tr>\n",
       "    <tr>\n",
       "      <th>10</th>\n",
       "      <td>4.889849</td>\n",
       "      <td>45.767617</td>\n",
       "      <td>Flachet – Alain Gilles</td>\n",
       "      <td>metro_line_A</td>\n",
       "    </tr>\n",
       "    <tr>\n",
       "      <th>11</th>\n",
       "      <td>4.900415</td>\n",
       "      <td>45.765661</td>\n",
       "      <td>Cusset</td>\n",
       "      <td>metro_line_A</td>\n",
       "    </tr>\n",
       "    <tr>\n",
       "      <th>12</th>\n",
       "      <td>4.908764</td>\n",
       "      <td>45.764118</td>\n",
       "      <td>Laurent-Bonnevay – Astroballe</td>\n",
       "      <td>metro_line_A</td>\n",
       "    </tr>\n",
       "    <tr>\n",
       "      <th>13</th>\n",
       "      <td>4.921923</td>\n",
       "      <td>45.761230</td>\n",
       "      <td>Vaulx-en-Velin – La Soie</td>\n",
       "      <td>metro_line_A</td>\n",
       "    </tr>\n",
       "  </tbody>\n",
       "</table>\n",
       "</div>"
      ],
      "text/plain": [
       "   longitude   latitude                           name      category\n",
       "0   4.826965  45.749554                       Perrache  metro_line_A\n",
       "1   4.829232  45.753161           Ampère – Victor-Hugo  metro_line_A\n",
       "2   4.832928  45.757542                      Bellecour  metro_line_A\n",
       "3   4.835816  45.763393                     Cordeliers  metro_line_A\n",
       "4   4.836012  45.767785  Hôtel de Ville – Louis-Pradel  metro_line_A\n",
       "5   4.844525  45.768771                           Foch  metro_line_A\n",
       "6   4.853208  45.769572                        Masséna  metro_line_A\n",
       "7   4.863397  45.770453     Charpennes – Charles-Hernu  metro_line_A\n",
       "8   4.873660  45.770558      République – Villeurbanne  metro_line_A\n",
       "9   4.882197  45.769029                    Gratte-Ciel  metro_line_A\n",
       "10  4.889849  45.767617         Flachet – Alain Gilles  metro_line_A\n",
       "11  4.900415  45.765661                         Cusset  metro_line_A\n",
       "12  4.908764  45.764118  Laurent-Bonnevay – Astroballe  metro_line_A\n",
       "13  4.921923  45.761230       Vaulx-en-Velin – La Soie  metro_line_A"
      ]
     },
     "execution_count": 11,
     "metadata": {},
     "output_type": "execute_result"
    }
   ],
   "source": [
    "df_renamed.head(15)"
   ]
  },
  {
   "cell_type": "code",
   "execution_count": 145,
   "metadata": {},
   "outputs": [],
   "source": [
    "# Output the new file (pleage check the name of the file)\n",
    "#df.to_csv('to_concat/cleaned_metro_A.csv')"
   ]
  },
  {
   "cell_type": "code",
   "execution_count": null,
   "metadata": {},
   "outputs": [],
   "source": []
  },
  {
   "cell_type": "code",
   "execution_count": null,
   "metadata": {},
   "outputs": [],
   "source": []
  }
 ],
 "metadata": {
  "kernelspec": {
   "display_name": "Python 3.9.3 64-bit",
   "language": "python",
   "name": "python3"
  },
  "language_info": {
   "codemirror_mode": {
    "name": "ipython",
    "version": 3
   },
   "file_extension": ".py",
   "mimetype": "text/x-python",
   "name": "python",
   "nbconvert_exporter": "python",
   "pygments_lexer": "ipython3",
   "version": "3.9.3 (tags/v3.9.3:e723086, Apr  2 2021, 11:35:20) [MSC v.1928 64 bit (AMD64)]"
  },
  "orig_nbformat": 4,
  "vscode": {
   "interpreter": {
    "hash": "5a1ee337b682cd95343797d80150fd2bd6ab72b1f35807bec9bb1f0b7fb0c443"
   }
  }
 },
 "nbformat": 4,
 "nbformat_minor": 2
}
